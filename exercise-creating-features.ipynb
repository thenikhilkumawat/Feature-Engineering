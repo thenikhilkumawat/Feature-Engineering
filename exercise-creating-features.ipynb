{
 "cells": [
  {
   "cell_type": "markdown",
   "id": "0cb1890d",
   "metadata": {
    "papermill": {
     "duration": 0.008208,
     "end_time": "2023-06-29T12:56:48.866538",
     "exception": false,
     "start_time": "2023-06-29T12:56:48.858330",
     "status": "completed"
    },
    "tags": []
   },
   "source": [
    "**This notebook is an exercise in the [Feature Engineering](https://www.kaggle.com/learn/feature-engineering) course.  You can reference the tutorial at [this link](https://www.kaggle.com/ryanholbrook/creating-features).**\n",
    "\n",
    "---\n"
   ]
  },
  {
   "cell_type": "markdown",
   "id": "a9cd6df0",
   "metadata": {
    "papermill": {
     "duration": 0.007515,
     "end_time": "2023-06-29T12:56:48.881441",
     "exception": false,
     "start_time": "2023-06-29T12:56:48.873926",
     "status": "completed"
    },
    "tags": []
   },
   "source": [
    "# Introduction #\n",
    "\n",
    "In this exercise you'll start developing the features you identified in Exercise 2 as having the most potential. As you work through this exercise, you might take a moment to look at the data documentation again and consider whether the features we're creating make sense from a real-world perspective, and whether there are any useful combinations that stand out to you.\n",
    "\n",
    "Run this cell to set everything up!"
   ]
  },
  {
   "cell_type": "code",
   "execution_count": 1,
   "id": "e887da31",
   "metadata": {
    "execution": {
     "iopub.execute_input": "2023-06-29T12:56:48.897917Z",
     "iopub.status.busy": "2023-06-29T12:56:48.897495Z",
     "iopub.status.idle": "2023-06-29T12:56:50.990673Z",
     "shell.execute_reply": "2023-06-29T12:56:50.989378Z"
    },
    "papermill": {
     "duration": 2.104885,
     "end_time": "2023-06-29T12:56:50.993659",
     "exception": false,
     "start_time": "2023-06-29T12:56:48.888774",
     "status": "completed"
    },
    "tags": []
   },
   "outputs": [],
   "source": [
    "# Setup feedback system\n",
    "from learntools.core import binder\n",
    "binder.bind(globals())\n",
    "from learntools.feature_engineering_new.ex3 import *\n",
    "\n",
    "import numpy as np\n",
    "import pandas as pd\n",
    "from sklearn.model_selection import cross_val_score\n",
    "from xgboost import XGBRegressor\n",
    "\n",
    "\n",
    "def score_dataset(X, y, model=XGBRegressor()):\n",
    "    # Label encoding for categoricals\n",
    "    for colname in X.select_dtypes([\"category\", \"object\"]):\n",
    "        X[colname], _ = X[colname].factorize()\n",
    "    # Metric for Housing competition is RMSLE (Root Mean Squared Log Error)\n",
    "    score = cross_val_score(\n",
    "        model, X, y, cv=5, scoring=\"neg_mean_squared_log_error\",\n",
    "    )\n",
    "    score = -1 * score.mean()\n",
    "    score = np.sqrt(score)\n",
    "    return score\n",
    "\n",
    "\n",
    "# Prepare data\n",
    "df = pd.read_csv(\"../input/fe-course-data/ames.csv\")\n",
    "X = df.copy()\n",
    "y = X.pop(\"SalePrice\")"
   ]
  },
  {
   "cell_type": "markdown",
   "id": "abf46173",
   "metadata": {
    "papermill": {
     "duration": 0.006988,
     "end_time": "2023-06-29T12:56:51.008117",
     "exception": false,
     "start_time": "2023-06-29T12:56:51.001129",
     "status": "completed"
    },
    "tags": []
   },
   "source": [
    "-------------------------------------------------------------------------------\n",
    "\n",
    "Let's start with a few mathematical combinations. We'll focus on features describing areas -- having the same units (square-feet) makes it easy to combine them in sensible ways. Since we're using XGBoost (a tree-based model), we'll focus on ratios and sums.\n",
    "\n",
    "# 1) Create Mathematical Transforms\n",
    "\n",
    "Create the following features:\n",
    "\n",
    "- `LivLotRatio`: the ratio of `GrLivArea` to `LotArea`\n",
    "- `Spaciousness`: the sum of `FirstFlrSF` and `SecondFlrSF` divided by `TotRmsAbvGrd`\n",
    "- `TotalOutsideSF`: the sum of `WoodDeckSF`, `OpenPorchSF`, `EnclosedPorch`, `Threeseasonporch`, and `ScreenPorch`"
   ]
  },
  {
   "cell_type": "code",
   "execution_count": 2,
   "id": "0e19a538",
   "metadata": {
    "execution": {
     "iopub.execute_input": "2023-06-29T12:56:51.026203Z",
     "iopub.status.busy": "2023-06-29T12:56:51.025765Z",
     "iopub.status.idle": "2023-06-29T12:56:51.052400Z",
     "shell.execute_reply": "2023-06-29T12:56:51.050975Z"
    },
    "lines_to_next_cell": 0,
    "papermill": {
     "duration": 0.039738,
     "end_time": "2023-06-29T12:56:51.055116",
     "exception": false,
     "start_time": "2023-06-29T12:56:51.015378",
     "status": "completed"
    },
    "tags": []
   },
   "outputs": [
    {
     "data": {
      "application/javascript": [
       "parent.postMessage({\"jupyterEvent\": \"custom.exercise_interaction\", \"data\": {\"outcomeType\": 1, \"valueTowardsCompletion\": 0.2, \"interactionType\": 1, \"questionType\": 2, \"questionId\": \"1_Q1\", \"learnToolsVersion\": \"0.3.4\", \"failureMessage\": \"\", \"exceptionClass\": \"\", \"trace\": \"\"}}, \"*\")"
      ],
      "text/plain": [
       "<IPython.core.display.Javascript object>"
      ]
     },
     "metadata": {},
     "output_type": "display_data"
    },
    {
     "data": {
      "text/markdown": [
       "<span style=\"color:#33cc33\">Correct</span>"
      ],
      "text/plain": [
       "Correct"
      ]
     },
     "metadata": {},
     "output_type": "display_data"
    }
   ],
   "source": [
    "# YOUR CODE HERE\n",
    "X_1 = pd.DataFrame()  # dataframe to hold new features\n",
    "\n",
    "X_1[\"LivLotRatio\"] = df.GrLivArea / df.LotArea\n",
    "X_1[\"Spaciousness\"] = (df.FirstFlrSF + df.SecondFlrSF) / df.TotRmsAbvGrd\n",
    "X_1[\"TotalOutsideSF\"] = df.WoodDeckSF + df.OpenPorchSF + df.EnclosedPorch + df.Threeseasonporch + df.ScreenPorch\n",
    "\n",
    "\n",
    "# Check your answer\n",
    "q_1.check()"
   ]
  },
  {
   "cell_type": "code",
   "execution_count": 3,
   "id": "8cb29fe4",
   "metadata": {
    "execution": {
     "iopub.execute_input": "2023-06-29T12:56:51.072667Z",
     "iopub.status.busy": "2023-06-29T12:56:51.072242Z",
     "iopub.status.idle": "2023-06-29T12:56:51.077034Z",
     "shell.execute_reply": "2023-06-29T12:56:51.075879Z"
    },
    "lines_to_next_cell": 0,
    "papermill": {
     "duration": 0.016762,
     "end_time": "2023-06-29T12:56:51.079619",
     "exception": false,
     "start_time": "2023-06-29T12:56:51.062857",
     "status": "completed"
    },
    "tags": []
   },
   "outputs": [],
   "source": [
    "# Lines below will give you a hint or solution code\n",
    "#q_1.hint()\n",
    "#q_1.solution()"
   ]
  },
  {
   "cell_type": "markdown",
   "id": "e6936a5b",
   "metadata": {
    "papermill": {
     "duration": 0.007493,
     "end_time": "2023-06-29T12:56:51.095047",
     "exception": false,
     "start_time": "2023-06-29T12:56:51.087554",
     "status": "completed"
    },
    "tags": []
   },
   "source": [
    "-------------------------------------------------------------------------------\n",
    "\n",
    "If you've discovered an interaction effect between a numeric feature and a categorical feature, you might want to model it explicitly using a one-hot encoding, like so:\n",
    "\n",
    "```\n",
    "# One-hot encode Categorical feature, adding a column prefix \"Cat\"\n",
    "X_new = pd.get_dummies(df.Categorical, prefix=\"Cat\")\n",
    "\n",
    "# Multiply row-by-row\n",
    "X_new = X_new.mul(df.Continuous, axis=0)\n",
    "\n",
    "# Join the new features to the feature set\n",
    "X = X.join(X_new)\n",
    "```\n",
    "\n",
    "# 2) Interaction with a Categorical\n",
    "\n",
    "We discovered an interaction between `BldgType` and `GrLivArea` in Exercise 2. Now create their interaction features."
   ]
  },
  {
   "cell_type": "code",
   "execution_count": 4,
   "id": "d5ca039b",
   "metadata": {
    "execution": {
     "iopub.execute_input": "2023-06-29T12:56:51.113679Z",
     "iopub.status.busy": "2023-06-29T12:56:51.113258Z",
     "iopub.status.idle": "2023-06-29T12:56:51.130913Z",
     "shell.execute_reply": "2023-06-29T12:56:51.129741Z"
    },
    "lines_to_next_cell": 0,
    "papermill": {
     "duration": 0.030093,
     "end_time": "2023-06-29T12:56:51.133491",
     "exception": false,
     "start_time": "2023-06-29T12:56:51.103398",
     "status": "completed"
    },
    "tags": []
   },
   "outputs": [
    {
     "data": {
      "application/javascript": [
       "parent.postMessage({\"jupyterEvent\": \"custom.exercise_interaction\", \"data\": {\"outcomeType\": 1, \"valueTowardsCompletion\": 0.2, \"interactionType\": 1, \"questionType\": 2, \"questionId\": \"2_Q2\", \"learnToolsVersion\": \"0.3.4\", \"failureMessage\": \"\", \"exceptionClass\": \"\", \"trace\": \"\"}}, \"*\")"
      ],
      "text/plain": [
       "<IPython.core.display.Javascript object>"
      ]
     },
     "metadata": {},
     "output_type": "display_data"
    },
    {
     "data": {
      "text/markdown": [
       "<span style=\"color:#33cc33\">Correct</span>"
      ],
      "text/plain": [
       "Correct"
      ]
     },
     "metadata": {},
     "output_type": "display_data"
    }
   ],
   "source": [
    "# YOUR CODE HERE\n",
    "# One-hot encode BldgType. Use `prefix=\"Bldg\"` in `get_dummies`\n",
    "X_2 = pd.get_dummies(df.BldgType, prefix=\"Bldg\")\n",
    "# Multiply\n",
    "X_2 = X_2.mul(df.GrLivArea, axis=0)\n",
    "\n",
    "\n",
    "# Check your answer\n",
    "q_2.check()"
   ]
  },
  {
   "cell_type": "code",
   "execution_count": 5,
   "id": "6c88a6ae",
   "metadata": {
    "execution": {
     "iopub.execute_input": "2023-06-29T12:56:51.151565Z",
     "iopub.status.busy": "2023-06-29T12:56:51.151148Z",
     "iopub.status.idle": "2023-06-29T12:56:51.155905Z",
     "shell.execute_reply": "2023-06-29T12:56:51.154793Z"
    },
    "lines_to_next_cell": 0,
    "papermill": {
     "duration": 0.016846,
     "end_time": "2023-06-29T12:56:51.158439",
     "exception": false,
     "start_time": "2023-06-29T12:56:51.141593",
     "status": "completed"
    },
    "tags": []
   },
   "outputs": [],
   "source": [
    "# Lines below will give you a hint or solution code\n",
    "#q_2.hint()\n",
    "#q_2.solution()"
   ]
  },
  {
   "cell_type": "markdown",
   "id": "92ecc3fd",
   "metadata": {
    "lines_to_next_cell": 0,
    "papermill": {
     "duration": 0.007856,
     "end_time": "2023-06-29T12:56:51.174845",
     "exception": false,
     "start_time": "2023-06-29T12:56:51.166989",
     "status": "completed"
    },
    "tags": []
   },
   "source": [
    "# 3) Count Feature\n",
    "\n",
    "Let's try creating a feature that describes how many kinds of outdoor areas a dwelling has. Create a feature `PorchTypes` that counts how many of the following are greater than 0.0:\n",
    "\n",
    "```\n",
    "WoodDeckSF\n",
    "OpenPorchSF\n",
    "EnclosedPorch\n",
    "Threeseasonporch\n",
    "ScreenPorch\n",
    "```"
   ]
  },
  {
   "cell_type": "code",
   "execution_count": 6,
   "id": "e6e5e557",
   "metadata": {
    "execution": {
     "iopub.execute_input": "2023-06-29T12:56:51.192906Z",
     "iopub.status.busy": "2023-06-29T12:56:51.192464Z",
     "iopub.status.idle": "2023-06-29T12:56:51.211586Z",
     "shell.execute_reply": "2023-06-29T12:56:51.210429Z"
    },
    "lines_to_next_cell": 0,
    "papermill": {
     "duration": 0.031457,
     "end_time": "2023-06-29T12:56:51.214370",
     "exception": false,
     "start_time": "2023-06-29T12:56:51.182913",
     "status": "completed"
    },
    "tags": []
   },
   "outputs": [
    {
     "data": {
      "application/javascript": [
       "parent.postMessage({\"jupyterEvent\": \"custom.exercise_interaction\", \"data\": {\"outcomeType\": 1, \"valueTowardsCompletion\": 0.2, \"interactionType\": 1, \"questionType\": 2, \"questionId\": \"3_Q3\", \"learnToolsVersion\": \"0.3.4\", \"failureMessage\": \"\", \"exceptionClass\": \"\", \"trace\": \"\"}}, \"*\")"
      ],
      "text/plain": [
       "<IPython.core.display.Javascript object>"
      ]
     },
     "metadata": {},
     "output_type": "display_data"
    },
    {
     "data": {
      "text/markdown": [
       "<span style=\"color:#33cc33\">Correct</span>"
      ],
      "text/plain": [
       "Correct"
      ]
     },
     "metadata": {},
     "output_type": "display_data"
    }
   ],
   "source": [
    "X_3 = pd.DataFrame()\n",
    "\n",
    "X_3[\"PorchTypes\"] = df[[\n",
    "    \"WoodDeckSF\",\n",
    "    \"OpenPorchSF\",\n",
    "    \"EnclosedPorch\",\n",
    "    \"Threeseasonporch\",\n",
    "    \"ScreenPorch\",\n",
    "]].gt(0.0).sum(axis=1)\n",
    "# Check your answer\n",
    "q_3.check()"
   ]
  },
  {
   "cell_type": "code",
   "execution_count": 7,
   "id": "efc1b7ee",
   "metadata": {
    "execution": {
     "iopub.execute_input": "2023-06-29T12:56:51.234016Z",
     "iopub.status.busy": "2023-06-29T12:56:51.233361Z",
     "iopub.status.idle": "2023-06-29T12:56:51.238535Z",
     "shell.execute_reply": "2023-06-29T12:56:51.237358Z"
    },
    "lines_to_next_cell": 0,
    "papermill": {
     "duration": 0.018409,
     "end_time": "2023-06-29T12:56:51.241280",
     "exception": false,
     "start_time": "2023-06-29T12:56:51.222871",
     "status": "completed"
    },
    "tags": []
   },
   "outputs": [],
   "source": [
    "# Lines below will give you a hint or solution code\n",
    "#q_3.hint()\n",
    "#q_3.solution()"
   ]
  },
  {
   "cell_type": "markdown",
   "id": "c27b6e10",
   "metadata": {
    "papermill": {
     "duration": 0.007976,
     "end_time": "2023-06-29T12:56:51.257743",
     "exception": false,
     "start_time": "2023-06-29T12:56:51.249767",
     "status": "completed"
    },
    "tags": []
   },
   "source": [
    "# 4) Break Down a Categorical Feature\n",
    "\n",
    "`MSSubClass` describes the type of a dwelling:"
   ]
  },
  {
   "cell_type": "code",
   "execution_count": 8,
   "id": "853697cd",
   "metadata": {
    "execution": {
     "iopub.execute_input": "2023-06-29T12:56:51.276522Z",
     "iopub.status.busy": "2023-06-29T12:56:51.276090Z",
     "iopub.status.idle": "2023-06-29T12:56:51.285609Z",
     "shell.execute_reply": "2023-06-29T12:56:51.284668Z"
    },
    "papermill": {
     "duration": 0.02182,
     "end_time": "2023-06-29T12:56:51.288032",
     "exception": false,
     "start_time": "2023-06-29T12:56:51.266212",
     "status": "completed"
    },
    "tags": []
   },
   "outputs": [
    {
     "data": {
      "text/plain": [
       "array(['One_Story_1946_and_Newer_All_Styles', 'Two_Story_1946_and_Newer',\n",
       "       'One_Story_PUD_1946_and_Newer',\n",
       "       'One_and_Half_Story_Finished_All_Ages', 'Split_Foyer',\n",
       "       'Two_Story_PUD_1946_and_Newer', 'Split_or_Multilevel',\n",
       "       'One_Story_1945_and_Older', 'Duplex_All_Styles_and_Ages',\n",
       "       'Two_Family_conversion_All_Styles_and_Ages',\n",
       "       'One_and_Half_Story_Unfinished_All_Ages',\n",
       "       'Two_Story_1945_and_Older', 'Two_and_Half_Story_All_Ages',\n",
       "       'One_Story_with_Finished_Attic_All_Ages',\n",
       "       'PUD_Multilevel_Split_Level_Foyer',\n",
       "       'One_and_Half_Story_PUD_All_Ages'], dtype=object)"
      ]
     },
     "execution_count": 8,
     "metadata": {},
     "output_type": "execute_result"
    }
   ],
   "source": [
    "df.MSSubClass.unique()"
   ]
  },
  {
   "cell_type": "markdown",
   "id": "3483a6d0",
   "metadata": {
    "papermill": {
     "duration": 0.008154,
     "end_time": "2023-06-29T12:56:51.304816",
     "exception": false,
     "start_time": "2023-06-29T12:56:51.296662",
     "status": "completed"
    },
    "tags": []
   },
   "source": [
    "You can see that there is a more general categorization described (roughly) by the first word of each category. Create a feature containing only these first words by splitting `MSSubClass` at the first underscore `_`. (Hint: In the `split` method use an argument `n=1`.)"
   ]
  },
  {
   "cell_type": "code",
   "execution_count": 9,
   "id": "02e19448",
   "metadata": {
    "execution": {
     "iopub.execute_input": "2023-06-29T12:56:51.325188Z",
     "iopub.status.busy": "2023-06-29T12:56:51.323988Z",
     "iopub.status.idle": "2023-06-29T12:56:51.353573Z",
     "shell.execute_reply": "2023-06-29T12:56:51.352625Z"
    },
    "lines_to_next_cell": 0,
    "papermill": {
     "duration": 0.042161,
     "end_time": "2023-06-29T12:56:51.356029",
     "exception": false,
     "start_time": "2023-06-29T12:56:51.313868",
     "status": "completed"
    },
    "tags": []
   },
   "outputs": [
    {
     "data": {
      "application/javascript": [
       "parent.postMessage({\"jupyterEvent\": \"custom.exercise_interaction\", \"data\": {\"outcomeType\": 1, \"valueTowardsCompletion\": 0.2, \"interactionType\": 1, \"questionType\": 2, \"questionId\": \"4_Q4\", \"learnToolsVersion\": \"0.3.4\", \"failureMessage\": \"\", \"exceptionClass\": \"\", \"trace\": \"\"}}, \"*\")"
      ],
      "text/plain": [
       "<IPython.core.display.Javascript object>"
      ]
     },
     "metadata": {},
     "output_type": "display_data"
    },
    {
     "data": {
      "text/markdown": [
       "<span style=\"color:#33cc33\">Correct</span>"
      ],
      "text/plain": [
       "Correct"
      ]
     },
     "metadata": {},
     "output_type": "display_data"
    }
   ],
   "source": [
    "X_4 = pd.DataFrame()\n",
    "\n",
    "# YOUR CODE HERE\n",
    "\n",
    "X_4[\"MSClass\"] = df.MSSubClass.str.split(\"_\", n=1, expand=True)[0]\n",
    "\n",
    "# Check your answer\n",
    "q_4.check()"
   ]
  },
  {
   "cell_type": "code",
   "execution_count": 10,
   "id": "4bebcb8d",
   "metadata": {
    "execution": {
     "iopub.execute_input": "2023-06-29T12:56:51.376130Z",
     "iopub.status.busy": "2023-06-29T12:56:51.375389Z",
     "iopub.status.idle": "2023-06-29T12:56:51.379829Z",
     "shell.execute_reply": "2023-06-29T12:56:51.378631Z"
    },
    "lines_to_next_cell": 0,
    "papermill": {
     "duration": 0.017764,
     "end_time": "2023-06-29T12:56:51.382663",
     "exception": false,
     "start_time": "2023-06-29T12:56:51.364899",
     "status": "completed"
    },
    "tags": []
   },
   "outputs": [],
   "source": [
    "# Lines below will give you a hint or solution code\n",
    "#q_4.hint()\n",
    "#q_4.solution()"
   ]
  },
  {
   "cell_type": "markdown",
   "id": "1a103db7",
   "metadata": {
    "papermill": {
     "duration": 0.008686,
     "end_time": "2023-06-29T12:56:51.400954",
     "exception": false,
     "start_time": "2023-06-29T12:56:51.392268",
     "status": "completed"
    },
    "tags": []
   },
   "source": [
    "# 5) Use a Grouped Transform\n",
    "\n",
    "The value of a home often depends on how it compares to typical homes in its neighborhood. Create a feature `MedNhbdArea` that describes the *median* of `GrLivArea` grouped on `Neighborhood`."
   ]
  },
  {
   "cell_type": "code",
   "execution_count": 11,
   "id": "4623659e",
   "metadata": {
    "execution": {
     "iopub.execute_input": "2023-06-29T12:56:51.421806Z",
     "iopub.status.busy": "2023-06-29T12:56:51.421102Z",
     "iopub.status.idle": "2023-06-29T12:56:51.442229Z",
     "shell.execute_reply": "2023-06-29T12:56:51.441024Z"
    },
    "lines_to_next_cell": 0,
    "papermill": {
     "duration": 0.034653,
     "end_time": "2023-06-29T12:56:51.444811",
     "exception": false,
     "start_time": "2023-06-29T12:56:51.410158",
     "status": "completed"
    },
    "tags": []
   },
   "outputs": [
    {
     "data": {
      "application/javascript": [
       "parent.postMessage({\"jupyterEvent\": \"custom.exercise_interaction\", \"data\": {\"outcomeType\": 1, \"valueTowardsCompletion\": 0.2, \"interactionType\": 1, \"questionType\": 2, \"questionId\": \"5_Q5\", \"learnToolsVersion\": \"0.3.4\", \"failureMessage\": \"\", \"exceptionClass\": \"\", \"trace\": \"\"}}, \"*\")"
      ],
      "text/plain": [
       "<IPython.core.display.Javascript object>"
      ]
     },
     "metadata": {},
     "output_type": "display_data"
    },
    {
     "data": {
      "text/markdown": [
       "<span style=\"color:#33cc33\">Correct</span>"
      ],
      "text/plain": [
       "Correct"
      ]
     },
     "metadata": {},
     "output_type": "display_data"
    }
   ],
   "source": [
    "X_5 = pd.DataFrame()\n",
    "\n",
    "# YOUR CODE HERE\n",
    "X_5[\"MedNhbdArea\"] = df.groupby(\"Neighborhood\")[\"GrLivArea\"].transform(\"median\")\n",
    "\n",
    "# Check your answer\n",
    "q_5.check()"
   ]
  },
  {
   "cell_type": "code",
   "execution_count": 12,
   "id": "b451ae6f",
   "metadata": {
    "execution": {
     "iopub.execute_input": "2023-06-29T12:56:51.466313Z",
     "iopub.status.busy": "2023-06-29T12:56:51.465476Z",
     "iopub.status.idle": "2023-06-29T12:56:51.470849Z",
     "shell.execute_reply": "2023-06-29T12:56:51.469894Z"
    },
    "lines_to_next_cell": 0,
    "papermill": {
     "duration": 0.019311,
     "end_time": "2023-06-29T12:56:51.473336",
     "exception": false,
     "start_time": "2023-06-29T12:56:51.454025",
     "status": "completed"
    },
    "tags": []
   },
   "outputs": [],
   "source": [
    "# Lines below will give you a hint or solution code\n",
    "#q_5.hint()\n",
    "#q_5.solution()"
   ]
  },
  {
   "cell_type": "markdown",
   "id": "e7de8e95",
   "metadata": {
    "papermill": {
     "duration": 0.008919,
     "end_time": "2023-06-29T12:56:51.491378",
     "exception": false,
     "start_time": "2023-06-29T12:56:51.482459",
     "status": "completed"
    },
    "tags": []
   },
   "source": [
    "Now you've made your first new feature set! If you like, you can run the cell below to score the model with all of your new features added:"
   ]
  },
  {
   "cell_type": "code",
   "execution_count": 13,
   "id": "75c840b6",
   "metadata": {
    "execution": {
     "iopub.execute_input": "2023-06-29T12:56:51.513785Z",
     "iopub.status.busy": "2023-06-29T12:56:51.512598Z",
     "iopub.status.idle": "2023-06-29T12:56:56.921229Z",
     "shell.execute_reply": "2023-06-29T12:56:56.920173Z"
    },
    "papermill": {
     "duration": 5.423541,
     "end_time": "2023-06-29T12:56:56.924345",
     "exception": false,
     "start_time": "2023-06-29T12:56:51.500804",
     "status": "completed"
    },
    "tags": []
   },
   "outputs": [
    {
     "data": {
      "text/plain": [
       "0.13865658070461215"
      ]
     },
     "execution_count": 13,
     "metadata": {},
     "output_type": "execute_result"
    }
   ],
   "source": [
    "X_new = X.join([X_1, X_2, X_3, X_4, X_5])\n",
    "score_dataset(X_new, y)"
   ]
  },
  {
   "cell_type": "markdown",
   "id": "3f4ce573",
   "metadata": {
    "papermill": {
     "duration": 0.008996,
     "end_time": "2023-06-29T12:56:56.943485",
     "exception": false,
     "start_time": "2023-06-29T12:56:56.934489",
     "status": "completed"
    },
    "tags": []
   },
   "source": [
    "# Keep Going #\n",
    "\n",
    "[**Untangle spatial relationships**](https://www.kaggle.com/ryanholbrook/clustering-with-k-means) by adding cluster labels to your dataset."
   ]
  },
  {
   "cell_type": "markdown",
   "id": "615f7ff3",
   "metadata": {
    "papermill": {
     "duration": 0.008886,
     "end_time": "2023-06-29T12:56:56.961752",
     "exception": false,
     "start_time": "2023-06-29T12:56:56.952866",
     "status": "completed"
    },
    "tags": []
   },
   "source": [
    "---\n",
    "\n",
    "\n",
    "\n",
    "\n",
    "*Have questions or comments? Visit the [course discussion forum](https://www.kaggle.com/learn/feature-engineering/discussion) to chat with other learners.*"
   ]
  }
 ],
 "metadata": {
  "kernelspec": {
   "display_name": "Python 3",
   "language": "python",
   "name": "python3"
  },
  "language_info": {
   "codemirror_mode": {
    "name": "ipython",
    "version": 3
   },
   "file_extension": ".py",
   "mimetype": "text/x-python",
   "name": "python",
   "nbconvert_exporter": "python",
   "pygments_lexer": "ipython3",
   "version": "3.10.10"
  },
  "papermill": {
   "default_parameters": {},
   "duration": 23.085857,
   "end_time": "2023-06-29T12:56:57.996017",
   "environment_variables": {},
   "exception": null,
   "input_path": "__notebook__.ipynb",
   "output_path": "__notebook__.ipynb",
   "parameters": {},
   "start_time": "2023-06-29T12:56:34.910160",
   "version": "2.4.0"
  }
 },
 "nbformat": 4,
 "nbformat_minor": 5
}
